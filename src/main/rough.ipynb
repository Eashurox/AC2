{
 "cells": [
  {
   "cell_type": "code",
   "execution_count": 227,
   "metadata": {},
   "outputs": [
    {
     "name": "stdout",
     "output_type": "stream",
     "text": [
      "dict_keys(['Module'])\n"
     ]
    }
   ],
   "source": []
  },
  {
   "cell_type": "code",
   "execution_count": 110,
   "metadata": {},
   "outputs": [
    {
     "data": {
      "text/plain": [
       "dict_keys(['body', 'type_ignores'])"
      ]
     },
     "execution_count": 110,
     "metadata": {},
     "output_type": "execute_result"
    }
   ],
   "source": [
    "tree[\"Module\"].keys()"
   ]
  },
  {
   "cell_type": "code",
   "execution_count": 111,
   "metadata": {},
   "outputs": [
    {
     "data": {
      "text/plain": [
       "5"
      ]
     },
     "execution_count": 111,
     "metadata": {},
     "output_type": "execute_result"
    }
   ],
   "source": [
    "body = tree[\"Module\"][\"body\"]\n",
    "len(body)"
   ]
  },
  {
   "cell_type": "code",
   "execution_count": 112,
   "metadata": {},
   "outputs": [
    {
     "data": {
      "text/plain": [
       "dict_keys(['ImportFrom'])"
      ]
     },
     "execution_count": 112,
     "metadata": {},
     "output_type": "execute_result"
    }
   ],
   "source": [
    "body[0].keys()"
   ]
  },
  {
   "cell_type": "code",
   "execution_count": 113,
   "metadata": {},
   "outputs": [
    {
     "data": {
      "text/plain": [
       "dict_keys(['Import'])"
      ]
     },
     "execution_count": 113,
     "metadata": {},
     "output_type": "execute_result"
    }
   ],
   "source": [
    "body[1].keys()"
   ]
  },
  {
   "cell_type": "code",
   "execution_count": 114,
   "metadata": {},
   "outputs": [
    {
     "data": {
      "text/plain": [
       "dict_keys(['ImportFrom'])"
      ]
     },
     "execution_count": 114,
     "metadata": {},
     "output_type": "execute_result"
    }
   ],
   "source": [
    "body[2].keys()"
   ]
  },
  {
   "cell_type": "code",
   "execution_count": 115,
   "metadata": {},
   "outputs": [
    {
     "data": {
      "text/plain": [
       "dict_keys(['FunctionDef'])"
      ]
     },
     "execution_count": 115,
     "metadata": {},
     "output_type": "execute_result"
    }
   ],
   "source": [
    "body[3].keys()"
   ]
  },
  {
   "cell_type": "code",
   "execution_count": 116,
   "metadata": {
    "scrolled": true
   },
   "outputs": [
    {
     "data": {
      "text/plain": [
       "[{'Expr': {'value': {'Call': {'func': {'Attribute': {'value': {'Name': {'id': 'config',\n",
       "         'ctx': 'Load'}},\n",
       "       'attr': 'load_kube_config',\n",
       "       'ctx': 'Load'}},\n",
       "     'args': [],\n",
       "     'keywords': []}}}},\n",
       " {'FunctionDef': {'name': 'today',\n",
       "   'args': {'arguments': {'posonlyargs': [],\n",
       "     'args': [],\n",
       "     'vararg': None,\n",
       "     'kwonlyargs': [],\n",
       "     'kw_defaults': [],\n",
       "     'kwarg': None,\n",
       "     'defaults': []}},\n",
       "   'body': [{'Pass': {}}],\n",
       "   'decorator_list': [],\n",
       "   'returns': None,\n",
       "   'type_comment': None}},\n",
       " {'With': {'items': [{'withitem': {'context_expr': {'Call': {'func': {'Name': {'id': 'open',\n",
       "          'ctx': 'Load'}},\n",
       "        'args': [{'Call': {'func': {'Attribute': {'value': {'Name': {'id': 'path',\n",
       "               'ctx': 'Load'}},\n",
       "             'attr': 'join',\n",
       "             'ctx': 'Load'}},\n",
       "           'args': [{'Call': {'func': {'Attribute': {'value': {'Name': {'id': 'path',\n",
       "                  'ctx': 'Load'}},\n",
       "                'attr': 'dirname',\n",
       "                'ctx': 'Load'}},\n",
       "              'args': [{'Name': {'id': '__file__', 'ctx': 'Load'}}],\n",
       "              'keywords': []}},\n",
       "            {'Constant': {'value': 'nginx-deployment.yaml', 'kind': None}}],\n",
       "           'keywords': []}}],\n",
       "        'keywords': []}},\n",
       "      'optional_vars': {'Name': {'id': 'f', 'ctx': 'Store'}}}}],\n",
       "   'body': [{'Assign': {'targets': [{'Name': {'id': 'dep', 'ctx': 'Store'}}],\n",
       "      'value': {'Call': {'func': {'Attribute': {'value': {'Name': {'id': 'yaml',\n",
       "            'ctx': 'Load'}},\n",
       "          'attr': 'safe_load',\n",
       "          'ctx': 'Load'}},\n",
       "        'args': [{'Name': {'id': 'f', 'ctx': 'Load'}}],\n",
       "        'keywords': []}},\n",
       "      'type_comment': None}},\n",
       "    {'Assign': {'targets': [{'Name': {'id': 'k8s_apps_v1', 'ctx': 'Store'}}],\n",
       "      'value': {'Call': {'func': {'Attribute': {'value': {'Name': {'id': 'client',\n",
       "            'ctx': 'Load'}},\n",
       "          'attr': 'AppsV1Api',\n",
       "          'ctx': 'Load'}},\n",
       "        'args': [],\n",
       "        'keywords': []}},\n",
       "      'type_comment': None}},\n",
       "    {'Assign': {'targets': [{'Name': {'id': 'resp', 'ctx': 'Store'}}],\n",
       "      'value': {'Call': {'func': {'Attribute': {'value': {'Name': {'id': 'k8s_apps_v1',\n",
       "            'ctx': 'Load'}},\n",
       "          'attr': 'create_namespaced_deployment',\n",
       "          'ctx': 'Load'}},\n",
       "        'args': [],\n",
       "        'keywords': [{'keyword': {'arg': 'body',\n",
       "           'value': {'Name': {'id': 'dep', 'ctx': 'Load'}}}},\n",
       "         {'keyword': {'arg': 'namespace',\n",
       "           'value': {'Constant': {'value': 'default', 'kind': None}}}}]}},\n",
       "      'type_comment': None}},\n",
       "    {'Expr': {'value': {'Call': {'func': {'Name': {'id': 'print',\n",
       "          'ctx': 'Load'}},\n",
       "        'args': [{'BinOp': {'left': {'Constant': {'value': \"Deployment created. status='%s'\",\n",
       "             'kind': None}},\n",
       "           'op': 'Mod',\n",
       "           'right': {'Attribute': {'value': {'Attribute': {'value': {'Name': {'id': 'resp',\n",
       "                 'ctx': 'Load'}},\n",
       "               'attr': 'metadata',\n",
       "               'ctx': 'Load'}},\n",
       "             'attr': 'name',\n",
       "             'ctx': 'Load'}}}}],\n",
       "        'keywords': []}}}}],\n",
       "   'type_comment': None}}]"
      ]
     },
     "execution_count": 116,
     "metadata": {},
     "output_type": "execute_result"
    }
   ],
   "source": [
    "body[3]['FunctionDef']['body']"
   ]
  },
  {
   "cell_type": "code",
   "execution_count": null,
   "metadata": {},
   "outputs": [],
   "source": []
  },
  {
   "cell_type": "code",
   "execution_count": 26,
   "metadata": {},
   "outputs": [
    {
     "data": {
      "text/plain": [
       "dict_keys(['If'])"
      ]
     },
     "execution_count": 26,
     "metadata": {},
     "output_type": "execute_result"
    }
   ],
   "source": [
    "body[4].keys()"
   ]
  },
  {
   "cell_type": "code",
   "execution_count": 104,
   "metadata": {
    "scrolled": true
   },
   "outputs": [
    {
     "data": {
      "text/plain": [
       "{'test': {'Compare': {'left': {'Name': {'id': '__name__', 'ctx': 'Load'}},\n",
       "   'ops': [{'Eq': {}}],\n",
       "   'comparators': [{'Constant': {'value': '__main__', 'kind': None}}]}},\n",
       " 'body': [{'Expr': {'value': {'Call': {'func': {'Name': {'id': 'main',\n",
       "        'ctx': 'Load'}},\n",
       "      'args': [],\n",
       "      'keywords': []}}}}],\n",
       " 'orelse': []}"
      ]
     },
     "execution_count": 104,
     "metadata": {},
     "output_type": "execute_result"
    }
   ],
   "source": [
    "body[4]['If']"
   ]
  },
  {
   "cell_type": "code",
   "execution_count": 105,
   "metadata": {},
   "outputs": [
    {
     "data": {
      "text/plain": [
       "[{'Expr': {'value': {'Call': {'func': {'Name': {'id': 'main', 'ctx': 'Load'}},\n",
       "     'args': [],\n",
       "     'keywords': []}}}}]"
      ]
     },
     "execution_count": 105,
     "metadata": {},
     "output_type": "execute_result"
    }
   ],
   "source": [
    "body[4]['If']['body']"
   ]
  },
  {
   "cell_type": "code",
   "execution_count": 2,
   "metadata": {},
   "outputs": [
    {
     "name": "stdout",
     "output_type": "stream",
     "text": [
      "dict_keys(['Module'])\n"
     ]
    }
   ],
   "source": [
    "from file_map_engine.ast_engine import make_ast\n",
    "\n",
    "\n",
    "test_path = 'test\\python\\examples\\\\deployment_create.py'\n",
    "\n",
    "test_path = 'D:\\Code\\AC2\\AC2\\src\\main\\\\test\\\\python\\\\doc\\\\source\\\\conf.py'\n",
    "\n",
    "# test_path = 'test\\\\file.py'\n",
    "code = open(test_path, 'r').read()\n",
    "\n",
    "tree = make_ast(code)\n",
    "\n",
    "print(tree.keys())"
   ]
  },
  {
   "cell_type": "code",
   "execution_count": 73,
   "metadata": {},
   "outputs": [],
   "source": [
    "new_data = {}\n",
    "\n",
    "def wrapper_get(tree, test_path):\n",
    "    new_data.clear()\n",
    "    module = tree['Module']\n",
    "    objects = module['body']\n",
    "    get_call_tree(objects, test_path)\n",
    "    return new_data\n",
    "    \n",
    "def get_call_tree(objects, par):\n",
    "    for i in objects:\n",
    "        keys = list(i.keys())\n",
    "        type_ = keys[0]\n",
    "        if keys[0] == 'FunctionDef':\n",
    "            print(i['FunctionDef']['name'], \"defined in\", par)\n",
    "            retrieve_inner_functions(i)\n",
    "        elif keys[0] == 'Expr':\n",
    "#             print(i['Expr']['value']['Call']['func']['Name']['ctx'])\n",
    "            retrieve_inner_expr(i, par)\n",
    "        elif keys[0] == 'Assign':\n",
    "#             print(i['Expr']['value']['Call']['func']['Name']['ctx'])\n",
    "            retrieve_inner_assign(i, par)\n",
    "        elif keys[0] == 'With':\n",
    "#             print(i['Expr']['value']['Call']['func']['Name']['ctx'])\n",
    "            retrieve_inner_with(i, par)\n",
    "        elif keys[0] == 'ImportFrom':\n",
    "#             print(i['Expr']['value']['Call']['func']['Name']['ctx'])\n",
    "            retrieve_inner_imp_fro(i, par)\n",
    "        elif keys[0] == 'Import':\n",
    "#             print(i['Expr']['value']['Call']['func']['Name']['ctx'])\n",
    "            retrieve_inner_imp(i, par)\n",
    "        else:\n",
    "            if 'body' in list(i[keys[0]].keys()):\n",
    "                get_call_tree(i[keys[0]]['body'], par)\n",
    "            \n",
    "def retrieve_inner_imp_fro(obj, from_):\n",
    "    \n",
    "        \n",
    "    from_2 = obj['ImportFrom']['module']\n",
    "    \n",
    "    if from_ in new_data.keys():\n",
    "        new_data[from_].append((from_2, 'module'))\n",
    "    else:\n",
    "        new_data[from_] = [(from_2, 'module')]\n",
    "        \n",
    "    names = obj['ImportFrom']['names']\n",
    "    for name in names:\n",
    "        name_true = name['alias']['name']\n",
    "        print(name_true,\"from\", from_2,\"into\", from_)\n",
    "        if from_2 in new_data.keys():\n",
    "            new_data[from_2].append((name_true, 'func'))\n",
    "        else:\n",
    "            new_data[from_2] = [(name_true, 'func')]\n",
    "    \n",
    "\n",
    "            \n",
    "def retrieve_inner_imp(obj, from_):\n",
    "    names = obj['Import']['names']\n",
    "    for name in names:\n",
    "        name_true = name['alias']['name']\n",
    "        print(name_true,\"into\" , from_)\n",
    "        if from_ in new_data.keys():\n",
    "            new_data[from_].append((name_true, 'module'))\n",
    "        else:\n",
    "            new_data[from_] = [(name_true, 'module')]\n",
    "            \n",
    "\n",
    "def retrieve_inner_functions(obj):\n",
    "    from_func = obj['FunctionDef']['name']\n",
    "    body_func = obj['FunctionDef']['body']\n",
    "    get_call_tree(body_func, from_func)\n",
    "\n",
    "\n",
    "def retrieve_inner_expr(obj, from_):\n",
    "    keys = list(obj.keys())\n",
    "    if list(obj[keys[0]].keys())[0] == \"value\":\n",
    "        new_obj = obj[keys[0]]['value']\n",
    "        if list(new_obj.keys())[0] == \"Call\":\n",
    "            new_obj = new_obj['Call']\n",
    "            if list(new_obj.keys())[0] == \"func\":\n",
    "                new_obj = new_obj['func']\n",
    "                \n",
    "                \n",
    "                \n",
    "                if list(new_obj.keys())[0] == \"Attribute\":\n",
    "                    try:\n",
    "                        from_2 = new_obj['Attribute']['value']['Name']['id']\n",
    "                        func_name_ = obj[keys[0]]['value']['Call']['func']['Attribute']['attr']\n",
    "                        print(func_name_, \"from\", from_2,\"called in\", from_)\n",
    "\n",
    "#                         if from_ in new_data.keys():\n",
    "#                             if (from_2, 'module') not in new_data[from_]:\n",
    "#                                 new_data[from_].append((from_2, 'module'))\n",
    "#                         else:\n",
    "#                             new_data[from_] = [(from_2, 'module')]\n",
    "\n",
    "                        if from_2 in new_data.keys():\n",
    "                            if (func_name_, 'func') not in new_data[from_2]:\n",
    "                                new_data[from_2].append((func_name_, 'func'))\n",
    "                        else:\n",
    "                            new_data[from_2] = [(func_name_, 'func')]\n",
    "                    except:\n",
    "                        print(\"\\n\\n\",new_obj['Attribute']['value']['Attribute'].keys(), \"\\n\\n\")\n",
    "                    \n",
    "                    \n",
    "                    \n",
    "                elif list(new_obj.keys())[0] == \"Name\":\n",
    "                    if from_ in new_data.keys():\n",
    "                        if (new_obj['Name']['id'], 'func') not in new_data[from_]:\n",
    "                            new_data[from_].append((new_obj['Name']['id'], 'func'))\n",
    "                    else:\n",
    "                        new_data[from_] = [(new_obj['Name']['id'], 'func')]\n",
    "                    print(new_obj['Name']['id'], \"called from\", from_)\n",
    "    \n",
    "    \n",
    "    \n",
    "def retrieve_inner_assign(obj, from_):\n",
    "    keys = list(obj.keys())    \n",
    "    keys2 = list(obj[keys[0]]['value'].keys())\n",
    "    new_obj = obj[keys[0]]['value']\n",
    "    key_ = keys2[0]\n",
    "    \n",
    "    if key_ == 'Call':\n",
    "        new_obj = new_obj['Call']\n",
    "        if list(new_obj.keys())[0] == \"func\":\n",
    "            new_obj = new_obj['func']\n",
    "            \n",
    "            \n",
    "#             print(new_obj.keys())\n",
    "            \n",
    "            \n",
    "            if list(new_obj.keys())[0] == \"Attribute\":\n",
    "                try:\n",
    "                    from_2 = new_obj['Attribute']['value']['Name']['id']\n",
    "                    func_name_ = obj[keys[0]]['value']['Call']['func']['Attribute']['attr']\n",
    "                    print(func_name_, \"from\", from_2,\"called in\", from_)\n",
    "\n",
    "#                         if from_ in new_data.keys():\n",
    "#                             if (from_2, 'module') not in new_data[from_]:\n",
    "#                                 new_data[from_].append((from_2, 'module'))\n",
    "#                         else:\n",
    "#                             new_data[from_] = [(from_2, 'module')]\n",
    "\n",
    "                    if from_2 in new_data.keys():\n",
    "                        if (func_name_, 'func') not in new_data[from_2]:\n",
    "                            new_data[from_2].append((func_name_, 'func'))\n",
    "                    else:\n",
    "                        new_data[from_2] = [(func_name_, 'func')]\n",
    "                except:\n",
    "                    print(\"\\n\\n\",new_obj['Attribute']['value']['Attribute'].keys(), \"\\n\\n\")\n",
    "\n",
    "            elif list(new_obj.keys())[0] == \"Name\":\n",
    "                print(new_obj['Name']['id'], \"called from\", from_)\n",
    "                \n",
    "                if from_ in new_data.keys():\n",
    "                    if (new_obj['Name']['id'], 'func') not in new_data[from_]:\n",
    "                        new_data[from_].append((new_obj['Name']['id'], 'func'))\n",
    "                else:\n",
    "                    new_data[from_] = [(new_obj['Name']['id'], 'func')]\n",
    "\n",
    "    \n",
    "\n",
    "\n",
    "def retrieve_inner_with(obj, from_):\n",
    "    keys = list(obj.keys())\n",
    "#     print(\"\\n\\n\",obj[keys[0]].keys(),\"\\n\\n\")\n",
    "#     print(\"\\n\\n\")\n",
    "#     print(obj[keys[0]]['items'])\n",
    "    print(\"\\n\\n\")\n",
    "    print(obj[keys[0]]['items'][0]['withitem'].keys())\n",
    "    print(\"\\n\\n\")\n",
    "    \n",
    "    file_name = obj[keys[0]]['items'][0]['withitem']['optional_vars']['Name']['id']\n",
    "    print(\"\\n\\n\")\n",
    "    \n",
    "#     print(obj[keys[0]]['items'][0]['withitem']['context_expr']['Call']['args'][0]['Constant']['value'])\n",
    "    print(\"\\n\\n\")\n",
    "    \n",
    "    if from_ in new_data.keys():\n",
    "        if (file_name, 'file') not in new_data[from_]:\n",
    "            new_data[from_].append((file_name, 'file'))\n",
    "    else:\n",
    "        new_data[from_] = [(file_name, 'file')]\n",
    "    \n",
    "    get_call_tree(obj[keys[0]]['body'], from_)\n",
    "    \n",
    "\n",
    "        \n",
    "    \n"
   ]
  },
  {
   "cell_type": "code",
   "execution_count": 75,
   "metadata": {
    "scrolled": false
   },
   "outputs": [
    {
     "name": "stdout",
     "output_type": "stream",
     "text": [
      "os into D:\\Code\\AC2\\AC2\\src\\main\\test\\python\\doc\\source\\conf.py\n",
      "re into D:\\Code\\AC2\\AC2\\src\\main\\test\\python\\doc\\source\\conf.py\n",
      "shutil into D:\\Code\\AC2\\AC2\\src\\main\\test\\python\\doc\\source\\conf.py\n",
      "sys into D:\\Code\\AC2\\AC2\\src\\main\\test\\python\\doc\\source\\conf.py\n",
      "AutoStructify from recommonmark.transform into D:\\Code\\AC2\\AC2\\src\\main\\test\\python\\doc\\source\\conf.py\n",
      "\n",
      "\n",
      "\n",
      "dict_keys(['context_expr', 'optional_vars'])\n",
      "\n",
      "\n",
      "\n",
      "\n",
      "\n",
      "\n",
      "../../README.md\n",
      "\n",
      "\n",
      "\n",
      "readlines from r called in D:\\Code\\AC2\\AC2\\src\\main\\test\\python\\doc\\source\\conf.py\n",
      "sub from re called in D:\\Code\\AC2\\AC2\\src\\main\\test\\python\\doc\\source\\conf.py\n",
      "append from new_readme called in D:\\Code\\AC2\\AC2\\src\\main\\test\\python\\doc\\source\\conf.py\n",
      "\n",
      "\n",
      "\n",
      "dict_keys(['context_expr', 'optional_vars'])\n",
      "\n",
      "\n",
      "\n",
      "\n",
      "\n",
      "\n",
      "README.md\n",
      "\n",
      "\n",
      "\n",
      "writelines from n called in D:\\Code\\AC2\\AC2\\src\\main\\test\\python\\doc\\source\\conf.py\n",
      "copy from shutil called in D:\\Code\\AC2\\AC2\\src\\main\\test\\python\\doc\\source\\conf.py\n",
      "\n",
      "\n",
      " dict_keys(['value', 'attr', 'ctx']) \n",
      "\n",
      "\n",
      "setup defined in D:\\Code\\AC2\\AC2\\src\\main\\test\\python\\doc\\source\\conf.py\n",
      "add_config_value from app called in setup\n",
      "add_transform from app called in setup\n"
     ]
    }
   ],
   "source": [
    "dat = wrapper_get(tree, test_path)"
   ]
  },
  {
   "cell_type": "code",
   "execution_count": 76,
   "metadata": {},
   "outputs": [
    {
     "data": {
      "text/plain": [
       "{'D:\\\\Code\\\\AC2\\\\AC2\\\\src\\\\main\\\\test\\\\python\\\\doc\\\\source\\\\conf.py': [('os',\n",
       "   'module'),\n",
       "  ('re', 'module'),\n",
       "  ('shutil', 'module'),\n",
       "  ('sys', 'module'),\n",
       "  ('recommonmark.transform', 'module'),\n",
       "  ('r', 'file'),\n",
       "  ('n', 'file')],\n",
       " 'recommonmark.transform': [('AutoStructify', 'func')],\n",
       " 'r': [('readlines', 'func')],\n",
       " 're': [('sub', 'func')],\n",
       " 'new_readme': [('append', 'func')],\n",
       " 'n': [('writelines', 'func')],\n",
       " 'shutil': [('copy', 'func')],\n",
       " 'app': [('add_config_value', 'func'), ('add_transform', 'func')]}"
      ]
     },
     "execution_count": 76,
     "metadata": {},
     "output_type": "execute_result"
    }
   ],
   "source": [
    "dat"
   ]
  },
  {
   "cell_type": "code",
   "execution_count": null,
   "metadata": {},
   "outputs": [],
   "source": []
  },
  {
   "cell_type": "code",
   "execution_count": null,
   "metadata": {},
   "outputs": [],
   "source": []
  }
 ],
 "metadata": {
  "kernelspec": {
   "display_name": "Python (scrape)",
   "language": "python",
   "name": "scrape"
  },
  "language_info": {
   "codemirror_mode": {
    "name": "ipython",
    "version": 3
   },
   "file_extension": ".py",
   "mimetype": "text/x-python",
   "name": "python",
   "nbconvert_exporter": "python",
   "pygments_lexer": "ipython3",
   "version": "3.8.3"
  }
 },
 "nbformat": 4,
 "nbformat_minor": 4
}
