{
 "cells": [
  {
   "cell_type": "code",
   "execution_count": 135,
   "metadata": {},
   "outputs": [],
   "source": [
    "# For testing\n",
    "import os\n",
    "from ast_helper import wrapper_get, get_call_tree\n",
    "test_path = 'D:\\Code\\AC2\\AC2\\src\\main\\\\test\\class.py'\n",
    "# # test_path = os.path.abspath(test_path)\n",
    "code = open(test_path, 'r').read()\n",
    "\n",
    "import ast\n",
    "import json\n",
    "\n",
    "def classname(cls):\n",
    "    return cls.__class__.__name__\n",
    "\n",
    "def jsonify_ast(node, level=0):\n",
    "    fields = {}\n",
    "    try:\n",
    "        for k in node._fields:\n",
    "            fields[k] = '...'\n",
    "            v = getattr(node, k)\n",
    "            if isinstance(v, ast.AST):\n",
    "                if v._fields:\n",
    "                    fields[k] = jsonify_ast(v)\n",
    "                else:\n",
    "                    fields[k] = classname(v)\n",
    "\n",
    "            elif isinstance(v, list):\n",
    "                fields[k] = []\n",
    "                for e in v:\n",
    "                    fields[k].append(jsonify_ast(e))\n",
    "\n",
    "            elif isinstance(v, str):\n",
    "                fields[k] = v\n",
    "\n",
    "            elif isinstance(v, int) or isinstance(v, float):\n",
    "                fields[k] = v\n",
    "\n",
    "            elif v is None:\n",
    "                fields[k] = None\n",
    "\n",
    "            else:\n",
    "                fields[k] = 'unrecognized'\n",
    "\n",
    "        ret = { classname(node): fields }\n",
    "        return ret\n",
    "    except:\n",
    "        ret = { classname(node): fields }\n",
    "\n",
    "def make_ast(code):\n",
    "    tree = ast.parse(code)\n",
    "    return jsonify_ast(tree)\n",
    "\n"
   ]
  },
  {
   "cell_type": "code",
   "execution_count": 138,
   "metadata": {},
   "outputs": [],
   "source": [
    "new_tree = make_ast(code)"
   ]
  },
  {
   "cell_type": "code",
   "execution_count": null,
   "metadata": {},
   "outputs": [],
   "source": []
  },
  {
   "cell_type": "code",
   "execution_count": null,
   "metadata": {},
   "outputs": [],
   "source": []
  },
  {
   "cell_type": "code",
   "execution_count": 139,
   "metadata": {},
   "outputs": [],
   "source": [
    "\n",
    "#     return new_data"
   ]
  },
  {
   "cell_type": "code",
   "execution_count": 140,
   "metadata": {},
   "outputs": [
    {
     "name": "stdout",
     "output_type": "stream",
     "text": [
      "__init__\n"
     ]
    },
    {
     "data": {
      "text/plain": [
       "{'test': [('__init__', 'funcDef'), ('Person', 'func'), ('print', 'func')]}"
      ]
     },
     "execution_count": 140,
     "metadata": {},
     "output_type": "execute_result"
    }
   ],
   "source": [
    "wrapper_get(new_tree, 'test')"
   ]
  },
  {
   "cell_type": "code",
   "execution_count": 120,
   "metadata": {},
   "outputs": [
    {
     "data": {
      "text/plain": [
       "['Person']"
      ]
     },
     "execution_count": 120,
     "metadata": {},
     "output_type": "execute_result"
    }
   ],
   "source": [
    "class_names"
   ]
  },
  {
   "cell_type": "code",
   "execution_count": 121,
   "metadata": {},
   "outputs": [
    {
     "data": {
      "text/plain": [
       "{'test': [('Person', 'classDef'), ('Person', 'func')]}"
      ]
     },
     "execution_count": 121,
     "metadata": {},
     "output_type": "execute_result"
    }
   ],
   "source": [
    "new_data"
   ]
  },
  {
   "cell_type": "code",
   "execution_count": 116,
   "metadata": {},
   "outputs": [],
   "source": [
    "def retrieve_inner_assign_col(obj, from_):\n",
    "    keys = list(obj.keys())    \n",
    "    keys2 = list(obj[keys[0]]['value'].keys())\n",
    "    new_obj = obj[keys[0]]['value']\n",
    "    key_ = keys2[0]\n",
    "    \n",
    "    if key_ == 'Call':\n",
    "        new_obj = new_obj['Call']\n",
    "        if list(new_obj.keys())[0] == \"func\":\n",
    "            new_obj = new_obj['func']\n",
    "            \n",
    "            \n",
    "#             print(new_obj.keys())\n",
    "            \n",
    "            \n",
    "            if list(new_obj.keys())[0] == \"Attribute\":\n",
    "                if 'Name' in list(new_obj['Attribute']['value'].keys()):\n",
    "                    from_2 = new_obj['Attribute']['value']['Name']['id']\n",
    "                    func_name_ = obj[keys[0]]['value']['Call']['func']['Attribute']['attr']\n",
    "                    # print(func_name_, \"from\", from_2,\"called in\", from_)\n",
    "\n",
    "#                         if from_ in new_data.keys():\n",
    "#                             if (from_2, 'module') not in new_data[from_]:\n",
    "#                                 new_data[from_].append((from_2, 'module'))\n",
    "#                         else:\n",
    "#                             new_data[from_] = [(from_2, 'module')]\n",
    "\n",
    "                    if from_2 in new_data.keys():\n",
    "                        if (func_name_, 'func') not in new_data[from_2]:\n",
    "                            new_data[from_2].append((func_name_, 'func'))\n",
    "                    else:\n",
    "                        new_data[from_2] = [(func_name_, 'func')]\n",
    "                elif 'Attribute' in list(new_obj['Attribute']['value'].keys()):\n",
    "                    pass\n",
    "                    # print(\"\\n\\n\",new_obj['Attribute']['value']['Attribute'].keys(), \"\\n\\n\")\n",
    "\n",
    "            elif list(new_obj.keys())[0] == \"Name\":\n",
    "                pass\n",
    "                # print(new_obj['Name']['id'], \"called from\", from_)\n",
    "                \n",
    "                if from_ in new_data.keys():\n",
    "                    if (new_obj['Name']['id'], 'func') not in new_data[from_]:\n",
    "                        new_data[from_].append((new_obj['Name']['id'], 'func'))\n",
    "                else:\n",
    "                    new_data[from_] = [(new_obj['Name']['id'], 'func')]\n"
   ]
  },
  {
   "cell_type": "code",
   "execution_count": 137,
   "metadata": {},
   "outputs": [],
   "source": [
    "def get_collab_tree(objects, par):\n",
    "    for i in objects:\n",
    "        keys = list(i.keys())\n",
    "        print(keys)\n",
    "        type_ = keys[0]\n",
    "        print(type_)\n",
    "        \n",
    "        if type_ =='ClassDef':\n",
    "            print(i['ClassDef']['name'])\n",
    "            class_names.append(i['ClassDef']['name'])\n",
    "            new_data[par] = [(i['ClassDef']['name'], 'classDef')]\n",
    "#         if keys[0] == 'FunctionDef':\n",
    "#             # print(i['FunctionDef']['name'], \"defined in\", par)\n",
    "#             retrieve_inner_functions(i, par)\n",
    "#         elif keys[0] == 'Expr':\n",
    "# #             print(i['Expr']['value']['Call']['func']['Name']['ctx'])\n",
    "#             retrieve_inner_expr(i, par)\n",
    "        elif keys[0] == 'Assign':\n",
    "            pass\n",
    "#             print(i['Expr']['value']['Call']['func']['Name']['ctx'])\n",
    "            retrieve_inner_assign_col(i, par)\n",
    "#         elif keys[0] == 'With':\n",
    "# #             print(i['Expr']['value']['Call']['func']['Name']['ctx'])\n",
    "#             retrieve_inner_with(i, par)\n",
    "#         elif keys[0] == 'ImportFrom':\n",
    "# #             print(i['Expr']['value']['Call']['func']['Name']['ctx'])\n",
    "#             retrieve_inner_imp_fro(i, par)\n",
    "#         elif keys[0] == 'Import':\n",
    "# #             print(i['Expr']['value']['Call']['func']['Name']['ctx'])\n",
    "#             retrieve_inner_imp(i, par)\n",
    "#         else:\n",
    "#             if 'body' in list(i[keys[0]].keys()):\n",
    "#                 get_call_tree(i[keys[0]]['body'], par)"
   ]
  },
  {
   "cell_type": "code",
   "execution_count": null,
   "metadata": {},
   "outputs": [],
   "source": []
  }
 ],
 "metadata": {
  "kernelspec": {
   "display_name": "Python (scrape)",
   "language": "python",
   "name": "scrape"
  },
  "language_info": {
   "codemirror_mode": {
    "name": "ipython",
    "version": 3
   },
   "file_extension": ".py",
   "mimetype": "text/x-python",
   "name": "python",
   "nbconvert_exporter": "python",
   "pygments_lexer": "ipython3",
   "version": "3.8.3"
  }
 },
 "nbformat": 4,
 "nbformat_minor": 4
}
