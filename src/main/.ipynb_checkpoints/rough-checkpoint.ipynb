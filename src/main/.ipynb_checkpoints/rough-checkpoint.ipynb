{
 "cells": [
  {
   "cell_type": "code",
   "execution_count": 227,
   "metadata": {},
   "outputs": [
    {
     "name": "stdout",
     "output_type": "stream",
     "text": [
      "dict_keys(['Module'])\n"
     ]
    }
   ],
   "source": []
  },
  {
   "cell_type": "code",
   "execution_count": 110,
   "metadata": {},
   "outputs": [
    {
     "data": {
      "text/plain": [
       "dict_keys(['body', 'type_ignores'])"
      ]
     },
     "execution_count": 110,
     "metadata": {},
     "output_type": "execute_result"
    }
   ],
   "source": [
    "tree[\"Module\"].keys()"
   ]
  },
  {
   "cell_type": "code",
   "execution_count": 111,
   "metadata": {},
   "outputs": [
    {
     "data": {
      "text/plain": [
       "5"
      ]
     },
     "execution_count": 111,
     "metadata": {},
     "output_type": "execute_result"
    }
   ],
   "source": [
    "body = tree[\"Module\"][\"body\"]\n",
    "len(body)"
   ]
  },
  {
   "cell_type": "code",
   "execution_count": 112,
   "metadata": {},
   "outputs": [
    {
     "data": {
      "text/plain": [
       "dict_keys(['ImportFrom'])"
      ]
     },
     "execution_count": 112,
     "metadata": {},
     "output_type": "execute_result"
    }
   ],
   "source": [
    "body[0].keys()"
   ]
  },
  {
   "cell_type": "code",
   "execution_count": 113,
   "metadata": {},
   "outputs": [
    {
     "data": {
      "text/plain": [
       "dict_keys(['Import'])"
      ]
     },
     "execution_count": 113,
     "metadata": {},
     "output_type": "execute_result"
    }
   ],
   "source": [
    "body[1].keys()"
   ]
  },
  {
   "cell_type": "code",
   "execution_count": 114,
   "metadata": {},
   "outputs": [
    {
     "data": {
      "text/plain": [
       "dict_keys(['ImportFrom'])"
      ]
     },
     "execution_count": 114,
     "metadata": {},
     "output_type": "execute_result"
    }
   ],
   "source": [
    "body[2].keys()"
   ]
  },
  {
   "cell_type": "code",
   "execution_count": 115,
   "metadata": {},
   "outputs": [
    {
     "data": {
      "text/plain": [
       "dict_keys(['FunctionDef'])"
      ]
     },
     "execution_count": 115,
     "metadata": {},
     "output_type": "execute_result"
    }
   ],
   "source": [
    "body[3].keys()"
   ]
  },
  {
   "cell_type": "code",
   "execution_count": 116,
   "metadata": {
    "scrolled": true
   },
   "outputs": [
    {
     "data": {
      "text/plain": [
       "[{'Expr': {'value': {'Call': {'func': {'Attribute': {'value': {'Name': {'id': 'config',\n",
       "         'ctx': 'Load'}},\n",
       "       'attr': 'load_kube_config',\n",
       "       'ctx': 'Load'}},\n",
       "     'args': [],\n",
       "     'keywords': []}}}},\n",
       " {'FunctionDef': {'name': 'today',\n",
       "   'args': {'arguments': {'posonlyargs': [],\n",
       "     'args': [],\n",
       "     'vararg': None,\n",
       "     'kwonlyargs': [],\n",
       "     'kw_defaults': [],\n",
       "     'kwarg': None,\n",
       "     'defaults': []}},\n",
       "   'body': [{'Pass': {}}],\n",
       "   'decorator_list': [],\n",
       "   'returns': None,\n",
       "   'type_comment': None}},\n",
       " {'With': {'items': [{'withitem': {'context_expr': {'Call': {'func': {'Name': {'id': 'open',\n",
       "          'ctx': 'Load'}},\n",
       "        'args': [{'Call': {'func': {'Attribute': {'value': {'Name': {'id': 'path',\n",
       "               'ctx': 'Load'}},\n",
       "             'attr': 'join',\n",
       "             'ctx': 'Load'}},\n",
       "           'args': [{'Call': {'func': {'Attribute': {'value': {'Name': {'id': 'path',\n",
       "                  'ctx': 'Load'}},\n",
       "                'attr': 'dirname',\n",
       "                'ctx': 'Load'}},\n",
       "              'args': [{'Name': {'id': '__file__', 'ctx': 'Load'}}],\n",
       "              'keywords': []}},\n",
       "            {'Constant': {'value': 'nginx-deployment.yaml', 'kind': None}}],\n",
       "           'keywords': []}}],\n",
       "        'keywords': []}},\n",
       "      'optional_vars': {'Name': {'id': 'f', 'ctx': 'Store'}}}}],\n",
       "   'body': [{'Assign': {'targets': [{'Name': {'id': 'dep', 'ctx': 'Store'}}],\n",
       "      'value': {'Call': {'func': {'Attribute': {'value': {'Name': {'id': 'yaml',\n",
       "            'ctx': 'Load'}},\n",
       "          'attr': 'safe_load',\n",
       "          'ctx': 'Load'}},\n",
       "        'args': [{'Name': {'id': 'f', 'ctx': 'Load'}}],\n",
       "        'keywords': []}},\n",
       "      'type_comment': None}},\n",
       "    {'Assign': {'targets': [{'Name': {'id': 'k8s_apps_v1', 'ctx': 'Store'}}],\n",
       "      'value': {'Call': {'func': {'Attribute': {'value': {'Name': {'id': 'client',\n",
       "            'ctx': 'Load'}},\n",
       "          'attr': 'AppsV1Api',\n",
       "          'ctx': 'Load'}},\n",
       "        'args': [],\n",
       "        'keywords': []}},\n",
       "      'type_comment': None}},\n",
       "    {'Assign': {'targets': [{'Name': {'id': 'resp', 'ctx': 'Store'}}],\n",
       "      'value': {'Call': {'func': {'Attribute': {'value': {'Name': {'id': 'k8s_apps_v1',\n",
       "            'ctx': 'Load'}},\n",
       "          'attr': 'create_namespaced_deployment',\n",
       "          'ctx': 'Load'}},\n",
       "        'args': [],\n",
       "        'keywords': [{'keyword': {'arg': 'body',\n",
       "           'value': {'Name': {'id': 'dep', 'ctx': 'Load'}}}},\n",
       "         {'keyword': {'arg': 'namespace',\n",
       "           'value': {'Constant': {'value': 'default', 'kind': None}}}}]}},\n",
       "      'type_comment': None}},\n",
       "    {'Expr': {'value': {'Call': {'func': {'Name': {'id': 'print',\n",
       "          'ctx': 'Load'}},\n",
       "        'args': [{'BinOp': {'left': {'Constant': {'value': \"Deployment created. status='%s'\",\n",
       "             'kind': None}},\n",
       "           'op': 'Mod',\n",
       "           'right': {'Attribute': {'value': {'Attribute': {'value': {'Name': {'id': 'resp',\n",
       "                 'ctx': 'Load'}},\n",
       "               'attr': 'metadata',\n",
       "               'ctx': 'Load'}},\n",
       "             'attr': 'name',\n",
       "             'ctx': 'Load'}}}}],\n",
       "        'keywords': []}}}}],\n",
       "   'type_comment': None}}]"
      ]
     },
     "execution_count": 116,
     "metadata": {},
     "output_type": "execute_result"
    }
   ],
   "source": [
    "body[3]['FunctionDef']['body']"
   ]
  },
  {
   "cell_type": "code",
   "execution_count": null,
   "metadata": {},
   "outputs": [],
   "source": []
  },
  {
   "cell_type": "code",
   "execution_count": 26,
   "metadata": {},
   "outputs": [
    {
     "data": {
      "text/plain": [
       "dict_keys(['If'])"
      ]
     },
     "execution_count": 26,
     "metadata": {},
     "output_type": "execute_result"
    }
   ],
   "source": [
    "body[4].keys()"
   ]
  },
  {
   "cell_type": "code",
   "execution_count": 104,
   "metadata": {
    "scrolled": true
   },
   "outputs": [
    {
     "data": {
      "text/plain": [
       "{'test': {'Compare': {'left': {'Name': {'id': '__name__', 'ctx': 'Load'}},\n",
       "   'ops': [{'Eq': {}}],\n",
       "   'comparators': [{'Constant': {'value': '__main__', 'kind': None}}]}},\n",
       " 'body': [{'Expr': {'value': {'Call': {'func': {'Name': {'id': 'main',\n",
       "        'ctx': 'Load'}},\n",
       "      'args': [],\n",
       "      'keywords': []}}}}],\n",
       " 'orelse': []}"
      ]
     },
     "execution_count": 104,
     "metadata": {},
     "output_type": "execute_result"
    }
   ],
   "source": [
    "body[4]['If']"
   ]
  },
  {
   "cell_type": "code",
   "execution_count": 105,
   "metadata": {},
   "outputs": [
    {
     "data": {
      "text/plain": [
       "[{'Expr': {'value': {'Call': {'func': {'Name': {'id': 'main', 'ctx': 'Load'}},\n",
       "     'args': [],\n",
       "     'keywords': []}}}}]"
      ]
     },
     "execution_count": 105,
     "metadata": {},
     "output_type": "execute_result"
    }
   ],
   "source": [
    "body[4]['If']['body']"
   ]
  },
  {
   "cell_type": "code",
   "execution_count": 26,
   "metadata": {},
   "outputs": [
    {
     "name": "stdout",
     "output_type": "stream",
     "text": [
      "dict_keys(['Module'])\n"
     ]
    }
   ],
   "source": [
    "from file_map_engine.ast_engine import make_ast\n",
    "\n",
    "\n",
    "test_path = 'D:\\\\Code\\\\AC2\\\\AC2\\\\src\\\\main\\\\test\\\\file.py'\n",
    "\n",
    "# test_path = 'D:\\Code\\AC2\\AC2\\src\\main\\\\test\\\\python\\\\doc\\\\source\\\\conf.py'\n",
    "\n",
    "# test_path = 'test\\\\file.py'\n",
    "code = open(test_path, 'r', encoding='utf-8').read()\n",
    "\n",
    "tree = make_ast(code)\n",
    "\n",
    "print(tree.keys())"
   ]
  },
  {
   "cell_type": "code",
   "execution_count": 27,
   "metadata": {},
   "outputs": [],
   "source": [
    "new_data = {}\n",
    "\n",
    "def wrapper_get(tree, test_path):\n",
    "    new_data.clear()\n",
    "    module = tree['Module']\n",
    "    objects = module['body']\n",
    "    get_call_tree(objects, test_path)\n",
    "    return new_data\n",
    "    \n",
    "def get_call_tree(objects, par):\n",
    "    for i in objects:\n",
    "        keys = list(i.keys())\n",
    "        type_ = keys[0]\n",
    "        if keys[0] == 'FunctionDef':\n",
    "            print(i['FunctionDef']['name'], \"defined in\", par)\n",
    "            retrieve_inner_functions(i)\n",
    "        elif keys[0] == 'Expr':\n",
    "#             print(i['Expr']['value']['Call']['func']['Name']['ctx'])\n",
    "            retrieve_inner_expr(i, par)\n",
    "        elif keys[0] == 'Assign':\n",
    "#             print(i['Expr']['value']['Call']['func']['Name']['ctx'])\n",
    "            retrieve_inner_assign(i, par)\n",
    "        elif keys[0] == 'With':\n",
    "#             print(i['Expr']['value']['Call']['func']['Name']['ctx'])\n",
    "            retrieve_inner_with(i, par)\n",
    "        elif keys[0] == 'ImportFrom':\n",
    "#             print(i['Expr']['value']['Call']['func']['Name']['ctx'])\n",
    "            retrieve_inner_imp_fro(i, par)\n",
    "        elif keys[0] == 'Import':\n",
    "#             print(i['Expr']['value']['Call']['func']['Name']['ctx'])\n",
    "            retrieve_inner_imp(i, par)\n",
    "        else:\n",
    "            if 'body' in list(i[keys[0]].keys()):\n",
    "                get_call_tree(i[keys[0]]['body'], par)\n",
    "            \n",
    "def retrieve_inner_imp_fro(obj, from_):\n",
    "    \n",
    "        \n",
    "    from_2 = obj['ImportFrom']['module']\n",
    "    \n",
    "    if from_ in new_data.keys():\n",
    "        new_data[from_].append((from_2, 'module'))\n",
    "    else:\n",
    "        new_data[from_] = [(from_2, 'module')]\n",
    "        \n",
    "    names = obj['ImportFrom']['names']\n",
    "    for name in names:\n",
    "        name_true = name['alias']['name']\n",
    "        print(name_true,\"from\", from_2,\"into\", from_)\n",
    "        if from_2 in new_data.keys():\n",
    "            new_data[from_2].append((name_true, 'func'))\n",
    "        else:\n",
    "            new_data[from_2] = [(name_true, 'func')]\n",
    "    \n",
    "\n",
    "            \n",
    "def retrieve_inner_imp(obj, from_):\n",
    "    names = obj['Import']['names']\n",
    "    for name in names:\n",
    "        name_true = name['alias']['name']\n",
    "        print(name_true,\"into\" , from_)\n",
    "        if from_ in new_data.keys():\n",
    "            new_data[from_].append((name_true, 'module'))\n",
    "        else:\n",
    "            new_data[from_] = [(name_true, 'module')]\n",
    "            \n",
    "\n",
    "def retrieve_inner_functions(obj):\n",
    "    from_func = obj['FunctionDef']['name']\n",
    "    body_func = obj['FunctionDef']['body']\n",
    "    get_call_tree(body_func, from_func)\n",
    "\n",
    "\n",
    "def retrieve_inner_expr(obj, from_):\n",
    "    keys = list(obj.keys())\n",
    "    if list(obj[keys[0]].keys())[0] == \"value\":\n",
    "        new_obj = obj[keys[0]]['value']\n",
    "        if list(new_obj.keys())[0] == \"Call\":\n",
    "            new_obj = new_obj['Call']\n",
    "            if list(new_obj.keys())[0] == \"func\":\n",
    "                new_obj = new_obj['func']\n",
    "                \n",
    "                \n",
    "                \n",
    "                if list(new_obj.keys())[0] == \"Attribute\":\n",
    "                    if 'Name' in list(new_obj['Attribute']['value'].keys()):\n",
    "                        from_2 = new_obj['Attribute']['value']['Name']['id']\n",
    "                        func_name_ = obj[keys[0]]['value']['Call']['func']['Attribute']['attr']\n",
    "                        print(func_name_, \"from\", from_2,\"called in\", from_)\n",
    "\n",
    "#                         if from_ in new_data.keys():\n",
    "#                             if (from_2, 'module') not in new_data[from_]:\n",
    "#                                 new_data[from_].append((from_2, 'module'))\n",
    "#                         else:\n",
    "#                             new_data[from_] = [(from_2, 'module')]\n",
    "\n",
    "                        if from_2 in new_data.keys():\n",
    "                            if (func_name_, 'func') not in new_data[from_2]:\n",
    "                                new_data[from_2].append((func_name_, 'func'))\n",
    "                        else:\n",
    "                            new_data[from_2] = [(func_name_, 'func')]\n",
    "                    elif 'Attribute' in list(new_obj['Attribute']['value'].keys()):\n",
    "                        print(\"\\n\\n\",new_obj['Attribute']['value']['Attribute'].keys(), \"\\n\\n\")\n",
    "                    \n",
    "                    \n",
    "                    \n",
    "                elif list(new_obj.keys())[0] == \"Name\":\n",
    "                    if from_ in new_data.keys():\n",
    "                        if (new_obj['Name']['id'], 'func') not in new_data[from_]:\n",
    "                            new_data[from_].append((new_obj['Name']['id'], 'func'))\n",
    "                    else:\n",
    "                        new_data[from_] = [(new_obj['Name']['id'], 'func')]\n",
    "                    print(new_obj['Name']['id'], \"called from\", from_)\n",
    "    \n",
    "    \n",
    "    \n",
    "def retrieve_inner_assign(obj, from_):\n",
    "    keys = list(obj.keys())    \n",
    "    keys2 = list(obj[keys[0]]['value'].keys())\n",
    "    new_obj = obj[keys[0]]['value']\n",
    "    key_ = keys2[0]\n",
    "    \n",
    "    if key_ == 'Call':\n",
    "        new_obj = new_obj['Call']\n",
    "        if list(new_obj.keys())[0] == \"func\":\n",
    "            new_obj = new_obj['func']\n",
    "            \n",
    "            \n",
    "#             print(new_obj.keys())\n",
    "            \n",
    "            \n",
    "            if list(new_obj.keys())[0] == \"Attribute\":\n",
    "                if 'Name' in list(new_obj['Attribute']['value'].keys()):\n",
    "                    from_2 = new_obj['Attribute']['value']['Name']['id']\n",
    "                    func_name_ = obj[keys[0]]['value']['Call']['func']['Attribute']['attr']\n",
    "                    print(func_name_, \"from\", from_2,\"called in\", from_)\n",
    "\n",
    "#                         if from_ in new_data.keys():\n",
    "#                             if (from_2, 'module') not in new_data[from_]:\n",
    "#                                 new_data[from_].append((from_2, 'module'))\n",
    "#                         else:\n",
    "#                             new_data[from_] = [(from_2, 'module')]\n",
    "\n",
    "                    if from_2 in new_data.keys():\n",
    "                        if (func_name_, 'func') not in new_data[from_2]:\n",
    "                            new_data[from_2].append((func_name_, 'func'))\n",
    "                    else:\n",
    "                        new_data[from_2] = [(func_name_, 'func')]\n",
    "                elif 'Attribute' in list(new_obj['Attribute']['value'].keys()):\n",
    "                    print(\"\\n\\n\",new_obj['Attribute']['value']['Attribute'].keys(), \"\\n\\n\")\n",
    "\n",
    "            elif list(new_obj.keys())[0] == \"Name\":\n",
    "                print(new_obj['Name']['id'], \"called from\", from_)\n",
    "                \n",
    "                if from_ in new_data.keys():\n",
    "                    if (new_obj['Name']['id'], 'func') not in new_data[from_]:\n",
    "                        new_data[from_].append((new_obj['Name']['id'], 'func'))\n",
    "                else:\n",
    "                    new_data[from_] = [(new_obj['Name']['id'], 'func')]\n",
    "\n",
    "    \n",
    "\n",
    "\n",
    "def retrieve_inner_with(obj, from_):\n",
    "    keys = list(obj.keys())\n",
    "#     print(\"\\n\\n\",obj[keys[0]].keys(),\"\\n\\n\")\n",
    "#     print(\"\\n\\n\")\n",
    "#     print(obj[keys[0]]['items'])\n",
    "    # print(\"\\n\\n\")\n",
    "    # print(obj[keys[0]]['items'][0]['withitem'].keys())\n",
    "    # print(\"\\n\\n\")\n",
    "\n",
    "    \n",
    "    \n",
    "    \n",
    "    if obj[keys[0]]['items'][0]['withitem']['optional_vars']:\n",
    "        file_name = obj[keys[0]]['items'][0]['withitem']['optional_vars']['Name']['id']\n",
    "    else:\n",
    "        file_name = \"None\"\n",
    "    print(\"\\n\\n\")\n",
    "    \n",
    "#     print(obj[keys[0]]['items'][0]['withitem']['context_expr']['Call']['args'][0]['Constant']['value'])\n",
    "    print(\"\\n\\n\")\n",
    "    \n",
    "    if from_ in new_data.keys():\n",
    "        if (file_name, 'file') not in new_data[from_]:\n",
    "            new_data[from_].append((file_name, 'file'))\n",
    "    else:\n",
    "        new_data[from_] = [(file_name, 'file')]\n",
    "    \n",
    "    get_call_tree(obj[keys[0]]['body'], from_)\n",
    "    \n",
    "\n",
    "        \n",
    "    \n"
   ]
  },
  {
   "cell_type": "code",
   "execution_count": 28,
   "metadata": {
    "scrolled": false
   },
   "outputs": [
    {
     "name": "stdout",
     "output_type": "stream",
     "text": [
      "kill from file2 into D:\\Code\\AC2\\AC2\\src\\main\\test\\file.py\n",
      "a defined in D:\\Code\\AC2\\AC2\\src\\main\\test\\file.py\n",
      "b called from a\n",
      "b defined in D:\\Code\\AC2\\AC2\\src\\main\\test\\file.py\n",
      "k defined in b\n",
      "sd called from k\n",
      "a called from k\n",
      "ko defined in k\n",
      "s called from ko\n",
      "b called from b\n",
      "d defined in D:\\Code\\AC2\\AC2\\src\\main\\test\\file.py\n",
      "a called from d\n",
      "sd defined in D:\\Code\\AC2\\AC2\\src\\main\\test\\file.py\n",
      "koa defined in sd\n",
      "kodd defined in koa\n",
      "b called from kodd\n",
      "l defined in D:\\Code\\AC2\\AC2\\src\\main\\test\\file.py\n",
      "a called from l\n",
      "b called from l\n",
      "d called from l\n",
      "a called from l\n",
      "main defined in D:\\Code\\AC2\\AC2\\src\\main\\test\\file.py\n",
      "l called from main\n",
      "main called from D:\\Code\\AC2\\AC2\\src\\main\\test\\file.py\n"
     ]
    }
   ],
   "source": [
    "dat = wrapper_get(tree, test_path)"
   ]
  },
  {
   "cell_type": "code",
   "execution_count": 29,
   "metadata": {},
   "outputs": [
    {
     "data": {
      "text/plain": [
       "{'D:\\\\Code\\\\AC2\\\\AC2\\\\src\\\\main\\\\test\\\\file.py': [('file2', 'module'),\n",
       "  ('main', 'func')],\n",
       " 'file2': [('kill', 'func')],\n",
       " 'a': [('b', 'func')],\n",
       " 'k': [('sd', 'func'), ('a', 'func')],\n",
       " 'ko': [('s', 'func')],\n",
       " 'b': [('b', 'func')],\n",
       " 'd': [('a', 'func')],\n",
       " 'kodd': [('b', 'func')],\n",
       " 'l': [('a', 'func'), ('b', 'func'), ('d', 'func')],\n",
       " 'main': [('l', 'func')]}"
      ]
     },
     "execution_count": 29,
     "metadata": {},
     "output_type": "execute_result"
    }
   ],
   "source": [
    "dat"
   ]
  },
  {
   "cell_type": "code",
   "execution_count": 108,
   "metadata": {
    "scrolled": true
   },
   "outputs": [
    {
     "name": "stdout",
     "output_type": "stream",
     "text": [
      "{}\n",
      "['D:\\\\Code\\\\AC2\\\\AC2\\\\src\\\\main\\\\test', 'D:\\\\Code\\\\AC2\\\\AC2\\\\src\\\\main\\\\test\\\\python']\n",
      "\n",
      "\n",
      ">  D:\\Code\\AC2\\AC2\\src\\main\\test \n",
      "\n",
      "-------------\n",
      "\n",
      "\n",
      "i :------>  D:\\Code\\AC2\\AC2\\src\\main\\test\\file.py\n",
      "kill from file2 into D:\\Code\\AC2\\AC2\\src\\main\\test\\file.py\n",
      "a defined in D:\\Code\\AC2\\AC2\\src\\main\\test\\file.py\n",
      "b called from a\n",
      "b defined in D:\\Code\\AC2\\AC2\\src\\main\\test\\file.py\n",
      "k defined in b\n",
      "sd called from k\n",
      "a called from k\n",
      "ko defined in k\n",
      "s called from ko\n",
      "b called from b\n",
      "d defined in D:\\Code\\AC2\\AC2\\src\\main\\test\\file.py\n",
      "a called from d\n",
      "sd defined in D:\\Code\\AC2\\AC2\\src\\main\\test\\file.py\n",
      "koa defined in sd\n",
      "kodd defined in koa\n",
      "b called from kodd\n",
      "l defined in D:\\Code\\AC2\\AC2\\src\\main\\test\\file.py\n",
      "a called from l\n",
      "b called from l\n",
      "d called from l\n",
      "a called from l\n",
      "main defined in D:\\Code\\AC2\\AC2\\src\\main\\test\\file.py\n",
      "l called from main\n",
      "main called from D:\\Code\\AC2\\AC2\\src\\main\\test\\file.py\n",
      "\n",
      "dictionary\n",
      "\n",
      "\n",
      "\n",
      " {'D:\\\\Code\\\\AC2\\\\AC2\\\\src\\\\main\\\\test\\\\file.py': [('file2', 'module'), ('main', 'func')], 'file2': [('kill', 'func')], 'a': [('b', 'func')], 'k': [('sd', 'func'), ('a', 'func')], 'ko': [('s', 'func')], 'b': [('b', 'func')], 'd': [('a', 'func')], 'kodd': [('b', 'func')], 'l': [('a', 'func'), ('b', 'func'), ('d', 'func')], 'main': [('l', 'func')]} \n",
      "\n",
      "\n",
      "\n",
      "dictionary\n",
      "\n",
      "\n",
      "\n",
      " dict_keys(['D:\\\\Code\\\\AC2\\\\AC2\\\\src\\\\main\\\\test\\\\file.py']) \n",
      "\n",
      "\n",
      "i :------>  D:\\Code\\AC2\\AC2\\src\\main\\test\\file2.py\n",
      "a from file into D:\\Code\\AC2\\AC2\\src\\main\\test\\file2.py\n",
      "b from file into D:\\Code\\AC2\\AC2\\src\\main\\test\\file2.py\n",
      "l from file into D:\\Code\\AC2\\AC2\\src\\main\\test\\file2.py\n",
      "ast into D:\\Code\\AC2\\AC2\\src\\main\\test\\file2.py\n",
      "kill defined in D:\\Code\\AC2\\AC2\\src\\main\\test\\file2.py\n",
      "print called from kill\n",
      "main defined in D:\\Code\\AC2\\AC2\\src\\main\\test\\file2.py\n",
      "kill called from main\n",
      "\n",
      "dictionary\n",
      "\n",
      "\n",
      "\n",
      " {'D:\\\\Code\\\\AC2\\\\AC2\\\\src\\\\main\\\\test\\\\file2.py': [('file', 'module'), ('ast', 'module')], 'file': [('a', 'func'), ('b', 'func'), ('l', 'func')], 'kill': [('print', 'func')], 'main': [('kill', 'func')]} \n",
      "\n",
      "\n",
      "\n",
      "dictionary\n",
      "\n",
      "\n",
      "\n",
      " dict_keys(['D:\\\\Code\\\\AC2\\\\AC2\\\\src\\\\main\\\\test\\\\file.py', 'D:\\\\Code\\\\AC2\\\\AC2\\\\src\\\\main\\\\test\\\\file2.py']) \n",
      "\n",
      "\n",
      "\n",
      "\n",
      ">  D:\\Code\\AC2\\AC2\\src\\main\\test\\python \n",
      "\n",
      "-------------\n",
      "\n",
      "\n",
      "i :------>  D:\\Code\\AC2\\AC2\\src\\main\\test\\python\\setup.py\n",
      "setup from setuptools into D:\\Code\\AC2\\AC2\\src\\main\\test\\python\\setup.py\n",
      "\n",
      "\n",
      "\n",
      "\n",
      "\n",
      "\n",
      "partition from line called in D:\\Code\\AC2\\AC2\\src\\main\\test\\python\\setup.py\n",
      "strip from line called in D:\\Code\\AC2\\AC2\\src\\main\\test\\python\\setup.py\n",
      "partition from line called in D:\\Code\\AC2\\AC2\\src\\main\\test\\python\\setup.py\n",
      "setdefault from EXTRAS called in D:\\Code\\AC2\\AC2\\src\\main\\test\\python\\setup.py\n",
      "append from for_specifier called in D:\\Code\\AC2\\AC2\\src\\main\\test\\python\\setup.py\n",
      "\n",
      "\n",
      "\n",
      "\n",
      "\n",
      "\n",
      "readlines from f called in D:\\Code\\AC2\\AC2\\src\\main\\test\\python\\setup.py\n",
      "setup called from D:\\Code\\AC2\\AC2\\src\\main\\test\\python\\setup.py\n",
      "\n",
      "dictionary\n",
      "\n",
      "\n",
      "\n",
      " {'D:\\\\Code\\\\AC2\\\\AC2\\\\src\\\\main\\\\test\\\\python\\\\setup.py': [('setuptools', 'module'), ('f', 'file'), ('setup', 'func')], 'setuptools': [('setup', 'func')], 'line': [('partition', 'func'), ('strip', 'func')], 'EXTRAS': [('setdefault', 'func')], 'for_specifier': [('append', 'func')], 'f': [('readlines', 'func')]} \n",
      "\n",
      "\n",
      "\n",
      "dictionary\n",
      "\n",
      "\n",
      "\n",
      " dict_keys(['D:\\\\Code\\\\AC2\\\\AC2\\\\src\\\\main\\\\test\\\\file.py', 'D:\\\\Code\\\\AC2\\\\AC2\\\\src\\\\main\\\\test\\\\file2.py', 'D:\\\\Code\\\\AC2\\\\AC2\\\\src\\\\main\\\\test\\\\python\\\\setup.py']) \n",
      "\n",
      "\n"
     ]
    }
   ],
   "source": [
    "from file_map_engine.call_dir import dir_walk\n",
    "import os\n",
    "new_dir = os.path.join(os.getcwd(), 'test')\n",
    "tree = dir_walk(new_dir)\n",
    "\n",
    "# print(tree)\n",
    "\n",
    "\n",
    "# This if for engine of parsing.\n",
    "\n",
    "########################################################################################\n",
    "\n",
    "new_calls_tree = {}\n",
    "print(new_calls_tree)\n",
    "\n",
    "new_keys = list(tree.keys())[:2]\n",
    "\n",
    "print(new_keys)\n",
    "for k in new_keys:\n",
    "    print(\"\\n\\n> \",k, \"\\n\\n-------------\\n\\n\")\n",
    "    for i in tree[k]:\n",
    "        if i['type'] == 'file':\n",
    "            \n",
    "            file_nam = i['value']\n",
    "            \n",
    "            if i['value'].split('.')[-1] == 'py':\n",
    "                print(\"i :------> \", file_nam)\n",
    "\n",
    "                code = open(file_nam, 'r', encoding='utf-8').read()\n",
    "                new_tree = make_ast(code)\n",
    "                final_obj = wrapper_get(new_tree, file_nam)\n",
    "                new_calls_tree[file_nam] = final_obj\n",
    "                print(\"\\ndictionary\\n\\n\\n\\n\", new_calls_tree[file_nam], \"\\n\\n\")\n",
    "                print(\"\\ndictionary\\n\\n\\n\\n\", new_calls_tree.keys(), \"\\n\\n\")"
   ]
  },
  {
   "cell_type": "code",
   "execution_count": 109,
   "metadata": {},
   "outputs": [
    {
     "name": "stdout",
     "output_type": "stream",
     "text": [
      "----------------------\n",
      " D:\\Code\\AC2\\AC2\\src\\main\\test \n",
      "----------------------\n",
      " ->  D:\\Code\\AC2\\AC2\\src\\main\\test\\file.py\n",
      "kill from file2 into D:\\Code\\AC2\\AC2\\src\\main\\test\\file.py\n",
      "a defined in D:\\Code\\AC2\\AC2\\src\\main\\test\\file.py\n",
      "b called from a\n",
      "b defined in D:\\Code\\AC2\\AC2\\src\\main\\test\\file.py\n",
      "k defined in b\n",
      "sd called from k\n",
      "a called from k\n",
      "ko defined in k\n",
      "s called from ko\n",
      "b called from b\n",
      "d defined in D:\\Code\\AC2\\AC2\\src\\main\\test\\file.py\n",
      "a called from d\n",
      "sd defined in D:\\Code\\AC2\\AC2\\src\\main\\test\\file.py\n",
      "koa defined in sd\n",
      "kodd defined in koa\n",
      "b called from kodd\n",
      "l defined in D:\\Code\\AC2\\AC2\\src\\main\\test\\file.py\n",
      "a called from l\n",
      "b called from l\n",
      "d called from l\n",
      "a called from l\n",
      "main defined in D:\\Code\\AC2\\AC2\\src\\main\\test\\file.py\n",
      "l called from main\n",
      "main called from D:\\Code\\AC2\\AC2\\src\\main\\test\\file.py\n",
      " ->  D:\\Code\\AC2\\AC2\\src\\main\\test\\file2.py\n",
      "a from file into D:\\Code\\AC2\\AC2\\src\\main\\test\\file2.py\n",
      "b from file into D:\\Code\\AC2\\AC2\\src\\main\\test\\file2.py\n",
      "l from file into D:\\Code\\AC2\\AC2\\src\\main\\test\\file2.py\n",
      "ast into D:\\Code\\AC2\\AC2\\src\\main\\test\\file2.py\n",
      "kill defined in D:\\Code\\AC2\\AC2\\src\\main\\test\\file2.py\n",
      "print called from kill\n",
      "main defined in D:\\Code\\AC2\\AC2\\src\\main\\test\\file2.py\n",
      "kill called from main\n",
      "----------------------\n",
      " D:\\Code\\AC2\\AC2\\src\\main\\test\\python \n",
      "----------------------\n",
      " ->  D:\\Code\\AC2\\AC2\\src\\main\\test\\python\\setup.py\n",
      "setup from setuptools into D:\\Code\\AC2\\AC2\\src\\main\\test\\python\\setup.py\n",
      "\n",
      "\n",
      "\n",
      "\n",
      "\n",
      "\n",
      "partition from line called in D:\\Code\\AC2\\AC2\\src\\main\\test\\python\\setup.py\n",
      "strip from line called in D:\\Code\\AC2\\AC2\\src\\main\\test\\python\\setup.py\n",
      "partition from line called in D:\\Code\\AC2\\AC2\\src\\main\\test\\python\\setup.py\n",
      "setdefault from EXTRAS called in D:\\Code\\AC2\\AC2\\src\\main\\test\\python\\setup.py\n",
      "append from for_specifier called in D:\\Code\\AC2\\AC2\\src\\main\\test\\python\\setup.py\n",
      "\n",
      "\n",
      "\n",
      "\n",
      "\n",
      "\n",
      "readlines from f called in D:\\Code\\AC2\\AC2\\src\\main\\test\\python\\setup.py\n",
      "setup called from D:\\Code\\AC2\\AC2\\src\\main\\test\\python\\setup.py\n"
     ]
    }
   ],
   "source": [
    "for k in new_keys:\n",
    "    print('----------------------\\n', k,'\\n----------------------')\n",
    "    for i in tree[k]:\n",
    "        if i['type'] == 'file':\n",
    "            if i['value'].split('.')[-1] == 'py':\n",
    "                file_nam = i['value']\n",
    "                print(\" -> \", file_nam)\n",
    "                code = open(file_nam, 'r', encoding='utf-8').read()\n",
    "                new_tree = make_ast(code)\n",
    "                final_obj = wrapper_get(new_tree, file_nam)\n",
    "            "
   ]
  },
  {
   "cell_type": "code",
   "execution_count": 88,
   "metadata": {},
   "outputs": [
    {
     "data": {
      "text/plain": [
       "['D:\\\\Code\\\\AC2\\\\AC2\\\\src\\\\main\\\\test\\\\file.py',\n",
       " 'D:\\\\Code\\\\AC2\\\\AC2\\\\src\\\\main\\\\test\\\\file2.py',\n",
       " 'D:\\\\Code\\\\AC2\\\\AC2\\\\src\\\\main\\\\test\\\\python\\\\setup.py']"
      ]
     },
     "execution_count": 88,
     "metadata": {},
     "output_type": "execute_result"
    }
   ],
   "source": [
    "list(new_calls_tree.keys())"
   ]
  },
  {
   "cell_type": "code",
   "execution_count": 86,
   "metadata": {},
   "outputs": [
    {
     "data": {
      "text/plain": [
       "{'D:\\\\Code\\\\AC2\\\\AC2\\\\src\\\\main\\\\test\\\\python\\\\setup.py': [('setuptools',\n",
       "   'module'),\n",
       "  ('f', 'file'),\n",
       "  ('setup', 'func')],\n",
       " 'setuptools': [('setup', 'func')],\n",
       " 'line': [('partition', 'func'), ('strip', 'func')],\n",
       " 'EXTRAS': [('setdefault', 'func')],\n",
       " 'for_specifier': [('append', 'func')],\n",
       " 'f': [('readlines', 'func')]}"
      ]
     },
     "execution_count": 86,
     "metadata": {},
     "output_type": "execute_result"
    }
   ],
   "source": [
    "new_calls_tree['D:\\\\Code\\\\AC2\\\\AC2\\\\src\\\\main\\\\test\\\\file2.py']"
   ]
  },
  {
   "cell_type": "code",
   "execution_count": 89,
   "metadata": {},
   "outputs": [
    {
     "name": "stdout",
     "output_type": "stream",
     "text": [
      "{'D:\\\\Code\\\\AC2\\\\AC2\\\\src\\\\main\\\\test\\\\python\\\\setup.py': [('setuptools', 'module'), ('f', 'file'), ('setup', 'func')], 'setuptools': [('setup', 'func')], 'line': [('partition', 'func'), ('strip', 'func')], 'EXTRAS': [('setdefault', 'func')], 'for_specifier': [('append', 'func')], 'f': [('readlines', 'func')]} \n",
      "\n",
      "\n",
      "{'D:\\\\Code\\\\AC2\\\\AC2\\\\src\\\\main\\\\test\\\\python\\\\setup.py': [('setuptools', 'module'), ('f', 'file'), ('setup', 'func')], 'setuptools': [('setup', 'func')], 'line': [('partition', 'func'), ('strip', 'func')], 'EXTRAS': [('setdefault', 'func')], 'for_specifier': [('append', 'func')], 'f': [('readlines', 'func')]} \n",
      "\n",
      "\n",
      "{'D:\\\\Code\\\\AC2\\\\AC2\\\\src\\\\main\\\\test\\\\python\\\\setup.py': [('setuptools', 'module'), ('f', 'file'), ('setup', 'func')], 'setuptools': [('setup', 'func')], 'line': [('partition', 'func'), ('strip', 'func')], 'EXTRAS': [('setdefault', 'func')], 'for_specifier': [('append', 'func')], 'f': [('readlines', 'func')]} \n",
      "\n",
      "\n"
     ]
    }
   ],
   "source": [
    "for k in new_calls_tree.keys():\n",
    "    print(new_calls_tree[k], \"\\n\\n\")"
   ]
  },
  {
   "cell_type": "code",
   "execution_count": null,
   "metadata": {},
   "outputs": [],
   "source": []
  }
 ],
 "metadata": {
  "kernelspec": {
   "display_name": "Python (scrape)",
   "language": "python",
   "name": "scrape"
  },
  "language_info": {
   "codemirror_mode": {
    "name": "ipython",
    "version": 3
   },
   "file_extension": ".py",
   "mimetype": "text/x-python",
   "name": "python",
   "nbconvert_exporter": "python",
   "pygments_lexer": "ipython3",
   "version": "3.8.3"
  }
 },
 "nbformat": 4,
 "nbformat_minor": 4
}
